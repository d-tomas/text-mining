{
  "nbformat": 4,
  "nbformat_minor": 0,
  "metadata": {
    "colab": {
      "provenance": [],
      "include_colab_link": true
    },
    "kernelspec": {
      "name": "python3",
      "display_name": "Python 3"
    }
  },
  "cells": [
    {
      "cell_type": "markdown",
      "metadata": {
        "id": "view-in-github",
        "colab_type": "text"
      },
      "source": [
        "<a href=\"https://colab.research.google.com/github/d-tomas/text-mining/blob/main/notebooks/lecture_1-extra.ipynb\" target=\"_parent\"><img src=\"https://colab.research.google.com/assets/colab-badge.svg\" alt=\"Open In Colab\"/></a>"
      ]
    },
    {
      "cell_type": "markdown",
      "metadata": {
        "id": "Lddn8aR5KY1v"
      },
      "source": [
        "# PEP 8"
      ]
    },
    {
      "cell_type": "markdown",
      "source": [
        "PEP 8 is the official style guide for Python code, providing conventions for writing clean and readable code. It includes guidelines on naming conventions, code layout, indentation, line length, and spacing, among others. By following PEP 8, developers can maintain consistent code formatting, making it easier to read, understand, and collaborate with others."
      ],
      "metadata": {
        "id": "Xz1Kn5VN0IGP"
      }
    },
    {
      "cell_type": "markdown",
      "metadata": {
        "id": "9nR0-0rD_6b1"
      },
      "source": [
        "## Names\n",
        "\n",
        "If there's one thing to take from *PEP 8*, it's this. Simple and effective:\n",
        "\n",
        "* *Variables*: use lowercase letters and underscores to separate words\n",
        "* *Functions*: use lowercase letters and underscores to separate words\n",
        "* *Classes*: capitalize the first letter of each word (*CapWords*)\n",
        "* *Constants*: use uppercase letters and underscores to separate words\n",
        "* If you need to use a reserved word, add an underscore at the end\n",
        "* Avoid using names that are too short like `fn`; instead, write `first_name`\n",
        "* Never use lowercase `l`, uppercase `O`, or uppercase `I` as variable names; they are easily confused with `1` or `0`\n"
      ]
    },
    {
      "cell_type": "code",
      "metadata": {
        "id": "UsmklA9jAjDo"
      },
      "source": [
        "students = 10  # Variable\n",
        "\n",
        "def calculate_area(length_x, length_y):  # Function\n",
        "    return length_x * length_y\n",
        "\n",
        "class FlyingPig:  # Class\n",
        "    weight = 25\n",
        "\n",
        "PI = 3.1415927  # Constant\n",
        "\n",
        "class_ = 'Mammal'  # I'm stubbornly using 'class' as a variable name"
      ],
      "execution_count": null,
      "outputs": []
    },
    {
      "cell_type": "markdown",
      "metadata": {
        "id": "xiROCtYODryQ"
      },
      "source": [
        "## Indentation\n",
        "\n",
        "Since Python uses indentation instead of braces to denote the scope of a block of code, it's crucial to have a clean and consistent indentation style:\n",
        "\n",
        "* Guidelines are not too strict, with multiple options; the key is to choose a convention and stick to it.\n",
        "* *PEP 8* settles the spaces vs. tabs debate, recommending four spaces instead of a tab character.\n",
        "* Always indent code that spans multiple lines to improve readability\n",
        "* For long lists of values, either indent based on the opening delimiter or use a hanging indent\n",
        "* When using *hanging indents*, there should be no value on the first line, and an extra level of indentation should be added if there is a block afterward\n",
        "* In the case of multiline statements, the closing symbol can be aligned with the indentation used or with the first character of the statement\n"
      ]
    },
    {
      "cell_type": "code",
      "metadata": {
        "id": "ylOSanjkH7f5"
      },
      "source": [
        "# This block won't compile! It's just for examples\n",
        "\n",
        "# Long list of values with 'opening delimiter'\n",
        "result = my_function(first_argument, second_argument,\n",
        "                    third_argument, fourth_argument)\n",
        "\n",
        "# Long list of values with 'hanging indent'\n",
        "result = my_function(\n",
        "    first_argument, second_argument,\n",
        "    third_argument, fourth_argument)\n",
        "\n",
        "# Long list of values with 'hanging indent' and block afterward\n",
        "def my_function(\n",
        "        first_argument, second_argument,\n",
        "        third_argument, fourth_argument):\n",
        "    print(first_argument)\n",
        "\n",
        "# Multiline statement alignment with whitespace\n",
        "my_list = [\n",
        "    1, 2, 3,\n",
        "    4, 5, 6,\n",
        "    ]\n",
        "\n",
        "# Multiline statement alignment with the first character\n",
        "my_list = [\n",
        "    1, 2, 3,\n",
        "    4, 5, 6,\n",
        "]"
      ],
      "execution_count": null,
      "outputs": []
    },
    {
      "cell_type": "markdown",
      "metadata": {
        "id": "R2VUO5KZKXWL"
      },
      "source": [
        "## Whitespace and Line Breaks\n",
        "\n",
        "PEP 8 has quite strict guidelines on when to break long lines and add whitespace.\n",
        "\n",
        "Use the following guidelines as a starting point; the most important thing is to be consistent.\n",
        "\n",
        "Criteria for line breaks:\n",
        "\n",
        "* It's recommended not to include multiple statements on the same line\n",
        "* Keep line lengths below 79 characters\n",
        "* Use two blank lines before and after functions and class definitions\n",
        "* Use one blank line before and after a class method definition\n",
        "* Use a blank line to separate logical steps in long sequences\n",
        "\n",
        "Criteria for whitespace:\n",
        "\n",
        "* Avoid unnecessary whitespace\n",
        "* Avoid whitespace immediately inside parentheses, braces, or brackets\n",
        "* Use whitespace around assignment and logical operators\n",
        "* Don't use whitespace in value assignment for default parameters\n",
        "* Use spaces around mathematical operators to clarify the order of operations\n",
        "* Use whitespace after commas and colons unless they are next to the end of a bracket, brace, or parenthesis\n",
        "* When using `:` to slice a list, do not use whitespace\n",
        "* Don't use whitespace to align variable values\n",
        "\n"
      ]
    },
    {
      "cell_type": "code",
      "metadata": {
        "id": "AoNiCSDTPgZG"
      },
      "source": [
        "# This block won't compile! It's just for examples\n",
        "\n",
        "# Whitespace inside parentheses, braces, and brackets\n",
        "spam(ham[1], {eggs: 2})  # Correct\n",
        "spam ( ham[ 1 ], { eggs: 2 } )  # Incorrect\n",
        "\n",
        "# Whitespace in assignment and logical operators\n",
        "egg = 12  # Correct\n",
        "egg=12  # Incorrect\n",
        "\n",
        "# Whitespace in default parameter assignment\n",
        "def complex(real, imag=0.0):  # Correct\n",
        "    return magic(r=real, i=imag)  # Correct\n",
        "\n",
        "def complex(real, imag = 0.0):  # Incorrect\n",
        "    return magic(r = real, i = imag)  # Incorrect\n",
        "\n",
        "# Whitespace in mathematical operators\n",
        "hypot = x*x + y*y  # Correct\n",
        "c = (a+b) * (a-b) # Correct\n",
        "\n",
        "hypot = x * x + y * y  # Incorrect\n",
        "c = (a + b) * (a - b) # Incorrect\n",
        "\n",
        "# Whitespace after commas and periods\n",
        "x, y = y, x  # Correct\n",
        "x , y = y , x  # Incorrect\n",
        "\n",
        "# Whitespace with ':'\n",
        "my_list[2:5] = 10  # Correct\n",
        "my_list[2 : 5] = 10  # Incorrect\n",
        "\n",
        "# Whitespace to align variable values\n",
        "user_name    = 'Pepito'  # Incorrect\n",
        "user_country = 'Spain'"
      ],
      "execution_count": null,
      "outputs": []
    },
    {
      "cell_type": "markdown",
      "metadata": {
        "id": "JDgDlL4VTrRB"
      },
      "source": [
        "## Single Quotes or Double Quotes?\n",
        "\n",
        "Both single (`'`) and double (`\"`) quotes are used to define string values.\n",
        "\n",
        "Additionally, triple quotes (`'''` or `\"\"\"`) are used for multi-line strings.\n",
        "\n",
        "Python doesn't advocate for single or double quotes but does provide usage guidelines:\n",
        "\n",
        "* Use double quotes for strings that contain single quotes\n",
        "* Use single quotes for strings with double quotes"
      ]
    },
    {
      "cell_type": "code",
      "metadata": {
        "id": "i1bufyftUJNV"
      },
      "source": [
        "# All these examples are correct\n",
        "\n",
        "message = 'In a place of \"La Mancha\"'\n",
        "\n",
        "message = \"In a place of 'La Mancha'\"\n",
        "\n",
        "message = '''In a place of \"La Mancha\", whose name I do not wish to remember,\n",
        "             there was not long ago a gentleman of those with a lance in the shipyard,\n",
        "             an old shield, a skinny horse, and a fast greyhound.'''\n",
        "\n",
        "message = \"\"\"In a place of 'La Mancha', whose name I do not wish to remember,\n",
        "             there was not long ago a gentleman of those with a lance in the shipyard,\n",
        "             an old shield, a skinny horse, and a fast greyhound.\"\"\""
      ],
      "execution_count": null,
      "outputs": []
    },
    {
      "cell_type": "markdown",
      "metadata": {
        "id": "kVvojB3EWl8g"
      },
      "source": [
        "## Comments\n",
        "\n",
        "Keep comments updated; incorrect comments are worse than no comments:\n",
        "\n",
        "* Write full sentences\n",
        "* A comment starts with `#` followed by a whitespace\n",
        "* Block comments:\n",
        "  * One or more lines of comments starting with `#`\n",
        "  * They must be indented to the same level as the code they are commenting on\n",
        "  * Separate paragraphs in the comment with a blank comment line\n",
        "* Inline comments:\n",
        "  * Follow the code they comment on the same line\n",
        "  * They should be used sparingly\n",
        "  * There must be two spaces between the comment and the code\n",
        "* All functions, classes, and methods should be documented (`docstrings`)\n",
        "* Triple quotes (`\"\"\"`) should be used for `docstrings`"
      ]
    },
    {
      "cell_type": "code",
      "metadata": {
        "id": "-86EK6duZqSw"
      },
      "source": [
        "# This is a block comment\n",
        "# It can have one or more lines\n",
        "#\n",
        "# I've left a blank line to separate paragraphs within the comment\n",
        "# Easy, right?\n",
        "\n",
        "var = 34  # This is an inline comment\n",
        "\n",
        "def my_function():\n",
        "    \"\"\" This is a single-line docstring \"\"\"\n",
        "\n",
        "def my_other_function(parameter=False):\n",
        "    \"\"\"\n",
        "    This is a multiline docstring.\n",
        "\n",
        "    Docstring also has its own formats, such as Epytext, reST, and Google.\n",
        "    Yeah, you can look into that at home...\n",
        "\n",
        "    \"\"\""
      ],
      "execution_count": null,
      "outputs": []
    },
    {
      "cell_type": "markdown",
      "metadata": {
        "id": "wOWvJAoyeIdK"
      },
      "source": [
        "## Expressions and Modules\n",
        "\n",
        "* Use inline negation (`if a is not b`) instead of negating a positive expression (`if not a is b`)\n",
        "* Don't check if a list is empty using `len(list) == 0`; instead use `if not list`\n",
        "* Always place `import` at the beginning of the file\n",
        "* Import functions and classes using `from my_module import MyClass` instead of importing the entire module (`import my_module`)\n",
        "* You should import libraries in this order:\n",
        "  * Standard library modules\n",
        "  * External modules\n",
        "  * Project modules\n",
        "* Each of these import sections should be in alphabetical order"
      ]
    },
    {
      "cell_type": "markdown",
      "metadata": {
        "id": "28iQfwkRAfun"
      },
      "source": [
        "## Exercise"
      ]
    },
    {
      "cell_type": "code",
      "metadata": {
        "id": "DJinczboPJSW"
      },
      "source": [
        "# Install 'Flake8' to analyze code style\n",
        "\n",
        "!pip install flake8"
      ],
      "execution_count": null,
      "outputs": []
    },
    {
      "cell_type": "code",
      "metadata": {
        "id": "kLIqePTuPju_"
      },
      "source": [
        "# 'Flake8' doesn't check naming format\n",
        "# A 'Flake8' plugin called 'pep8-naming' needs to be installed\n",
        "# Error codes of type 'Nxxx' are for names\n",
        "\n",
        "!pip install pep8-naming"
      ],
      "execution_count": null,
      "outputs": []
    },
    {
      "cell_type": "code",
      "metadata": {
        "id": "UkYXrdOtKsUu"
      },
      "source": [
        "# Example of messy code with many style issues...\n",
        "# Let's create a 'test.py' file with this code to analyze it\n",
        "\n",
        "%%writefile test.py\n",
        "#define our data\n",
        "my_dict ={\n",
        "    'a'  : 10,\n",
        "'b': 3,\n",
        "    'c'  :   4,\n",
        "          'd': 7}\n",
        "#import the module we need\n",
        "import numpy as np\n",
        "#helper function\n",
        "def DictToArray(d):\n",
        "  \"\"\"Convert dictionary values to a numpy array\"\"\"\n",
        "  #extract values and convert\n",
        "               x=np.array(d.values())\n",
        "               return x\n",
        "# This is an unnecessarily long comment line that should be split into several\n",
        "print(DictToArray(my_dict))\n",
        "\n",
        "class my_class:\n",
        "    x = 12"
      ],
      "execution_count": null,
      "outputs": []
    },
    {
      "cell_type": "code",
      "metadata": {
        "id": "Pkn5EWe0N1bs"
      },
      "source": [
        "# If we want to see the line numbers\n",
        "\n",
        "!cat -n test.py"
      ],
      "execution_count": null,
      "outputs": []
    },
    {
      "cell_type": "code",
      "metadata": {
        "id": "7ZJLdiRsPn5Y"
      },
      "source": [
        "# Use 'Flake8' from the command line to analyze the file\n",
        "\n",
        "!flake8 test.py"
      ],
      "execution_count": null,
      "outputs": []
    },
    {
      "cell_type": "markdown",
      "metadata": {
        "id": "894sKeD-yBhA"
      },
      "source": [
        "### Do you dare to fix it?"
      ]
    },
    {
      "cell_type": "code",
      "metadata": {
        "id": "ddckmue1yFYp"
      },
      "source": [
        "# Fix the style errors in this cell\n",
        "\n",
        "%%writefile test.py\n",
        "#define our data\n",
        "my_dict ={\n",
        "    'a'  : 10,\n",
        "'b': 3,\n",
        "    'c'  :   4,\n",
        "          'd': 7}\n",
        "#import the module we need\n",
        "import numpy as np\n",
        "#helper function\n",
        "def DictToArray(d):\n",
        "  \"\"\"Convert dictionary values to a numpy array\"\"\"\n",
        "  #extract values and convert\n",
        "               x=np.array(d.values())\n",
        "               return x\n",
        "# This is an unnecessarily long comment line that should be split into several\n",
        "print(DictToArray(my_dict))\n",
        "\n",
        "class my_class:\n",
        "    x = 12"
      ],
      "execution_count": null,
      "outputs": []
    },
    {
      "cell_type": "code",
      "metadata": {
        "id": "e8roFT5NyL-a"
      },
      "source": [
        "# Re-analyze the style until everything is correct\n",
        "\n",
        "!flake8 test.py"
      ],
      "execution_count": null,
      "outputs": []
    },
    {
      "cell_type": "markdown",
      "metadata": {
        "id": "0Xk4QYGEA0eE"
      },
      "source": [
        "# References\n",
        "\n",
        "* [A Five-Minute Introduction to Python's Style Guide: PEP 8](https://medium.com/code-85/a-five-minute-introduction-to-pythons-style-guide-pep-8-57202886265f)\n",
        "* [A Summary of PEP 8: Style Guide for Python Code](https://tandysony.com/2018/02/14/pep-8.html)\n",
        "* [An Overview of The PEP 8 Style Guide](https://towardsdatascience.com/an-overview-of-the-pep-8-style-guide-5672459c7682)\n",
        "* [What is PEP 8 and why should I implement it?](https://dev.to/viktorvillalobos/que-es-el-pep-8-y-porque-deberia-implementarlo-54bh)"
      ]
    }
  ]
}