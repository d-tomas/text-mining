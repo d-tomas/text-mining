{
  "nbformat": 4,
  "nbformat_minor": 0,
  "metadata": {
    "colab": {
      "private_outputs": true,
      "provenance": [],
      "toc_visible": true,
      "authorship_tag": "ABX9TyNI8swO1NT14b9vhifiMMLL",
      "include_colab_link": true
    },
    "kernelspec": {
      "name": "python3",
      "display_name": "Python 3"
    }
  },
  "cells": [
    {
      "cell_type": "markdown",
      "metadata": {
        "id": "view-in-github",
        "colab_type": "text"
      },
      "source": [
        "<a href=\"https://colab.research.google.com/github/d-tomas/text-mining/blob/main/notebooks/lecture_4.ipynb\" target=\"_parent\"><img src=\"https://colab.research.google.com/assets/colab-badge.svg\" alt=\"Open In Colab\"/></a>"
      ]
    },
    {
      "cell_type": "markdown",
      "metadata": {
        "id": "V1AwPWOa4LTA"
      },
      "source": [
        "# **Day 4**: Unsupervised Learning"
      ]
    },
    {
      "cell_type": "markdown",
      "metadata": {
        "id": "vftAQFLq5Qa8"
      },
      "source": [
        "## Initial setup"
      ]
    },
    {
      "cell_type": "code",
      "metadata": {
        "id": "Wd1D7Md12xzo"
      },
      "source": [
        "# Import the required libraries\n",
        "\n",
        "import pandas as pd\n",
        "import numpy as np\n",
        "import matplotlib.pyplot as plt \n",
        "import seaborn as sns\n",
        "from sklearn.cluster import KMeans \n",
        "from sklearn.metrics import silhouette_score\n",
        "from sklearn.preprocessing import MinMaxScaler\n",
        "\n",
        "# Download the dataset\n",
        "!wget https://raw.githubusercontent.com/d-tomas/text-mining/main/datasets/iris.csv"
      ],
      "execution_count": null,
      "outputs": []
    },
    {
      "cell_type": "code",
      "metadata": {
        "id": "7iSfM7fC4PcH"
      },
      "source": [
        "# Loading data from file into a Pandas DataFrame\n",
        "\n",
        "data = pd.read_csv('iris.csv')\n",
        "data"
      ],
      "execution_count": null,
      "outputs": []
    },
    {
      "cell_type": "code",
      "metadata": {
        "id": "LpaHmonc4d2m"
      },
      "source": [
        "# Show information about de DataFrame\n",
        "\n",
        "data.info()"
      ],
      "execution_count": null,
      "outputs": []
    },
    {
      "cell_type": "code",
      "metadata": {
        "id": "bq0GA1UI4oq6"
      },
      "source": [
        "#Frequency distribution of species\n",
        "\n",
        "data['species'].value_counts()"
      ],
      "execution_count": null,
      "outputs": []
    },
    {
      "cell_type": "code",
      "metadata": {
        "id": "4MfB_F1Q5qPR"
      },
      "source": [
        "# Distribution of each class depending of the feature\n",
        "\n",
        "sns.kdeplot(data = data, x='sepal_length', hue='species')\n",
        "plt.show()\n",
        "sns.kdeplot(data = data, x='sepal_width', hue='species')\n",
        "plt.show()\n",
        "sns.kdeplot(data = data, x='petal_length', hue='species')\n",
        "plt.show()\n",
        "sns.kdeplot(data = data, x='petal_width', hue='species')\n",
        "plt.show()"
      ],
      "execution_count": null,
      "outputs": []
    },
    {
      "cell_type": "markdown",
      "metadata": {
        "id": "csEDufc992Z0"
      },
      "source": [
        "## Example 1: k-means"
      ]
    },
    {
      "cell_type": "code",
      "metadata": {
        "id": "EarhRauRnqqV"
      },
      "source": [
        "#Finding the optimum number of clusters for k-means classification\n",
        "\n",
        "wcss = []\n",
        "X = data.drop('species', axis=1).values  # Keep the values for all the features but the class\n",
        "\n",
        "for i in range(1, 11):\n",
        "  kmeans = KMeans(n_clusters=i, random_state=0)\n",
        "  kmeans.fit(X)\n",
        "  wcss.append(kmeans.inertia_)  # intertia_ -> Sum of squared distances of samples to their closest cluster center"
      ],
      "execution_count": null,
      "outputs": []
    },
    {
      "cell_type": "code",
      "metadata": {
        "id": "O69ZNwI2pGQ7"
      },
      "source": [
        "# Using the elbow method to determine the optimal number of clusters for k-means clustering\n",
        "# The optimum clusters is where the elbow occurs\n",
        "# This is when the within cluster sum of squares (WCSS) does not decrease significantly with every iteration\n",
        "\n",
        "sns.lineplot(x=range(1, 11), y=wcss)\n",
        "plt.title('The elbow method')\n",
        "plt.xlabel('Number of clusters')\n",
        "plt.ylabel('WCSS') # Within cluster sum of squares\n",
        "plt.show()"
      ],
      "execution_count": null,
      "outputs": []
    },
    {
      "cell_type": "code",
      "metadata": {
        "id": "ytEiIdwapabK"
      },
      "source": [
        "# Implementing the k-Means clustering\n",
        "\n",
        "kmeans = KMeans(n_clusters=3, random_state=0)\n",
        "y = kmeans.fit_predict(X)  # Assign a cluster to each sample"
      ],
      "execution_count": null,
      "outputs": []
    },
    {
      "cell_type": "code",
      "metadata": {
        "id": "8zHRq7jFqAmK"
      },
      "source": [
        "# Labels assigned to each sample\n",
        "\n",
        "y"
      ],
      "execution_count": null,
      "outputs": []
    },
    {
      "cell_type": "code",
      "metadata": {
        "id": "CmIif8Q0xMR9"
      },
      "source": [
        "# Visualisation of the clusters\n",
        "\n",
        "sns.scatterplot(x=X[y == 0, 2], y=X[y == 0, 3])\n",
        "sns.scatterplot(x=X[y == 1, 2], y=X[y == 1, 3])\n",
        "sns.scatterplot(x=X[y == 2, 2], y=X[y == 2, 3])\n",
        "\n",
        "#Plotting the centroids of the clusters\n",
        "sns.scatterplot(x=kmeans.cluster_centers_[:, 2], y=kmeans.cluster_centers_[:,3], s=100, label = 'Centroids')\n",
        "\n",
        "plt.legend(bbox_to_anchor=(1.01, 1.01), loc=2)\n",
        "\n",
        "plt.show()"
      ],
      "execution_count": null,
      "outputs": []
    },
    {
      "cell_type": "markdown",
      "metadata": {
        "id": "DuGoggVzTv4_"
      },
      "source": [
        "# References\n",
        "\n",
        "* [Iris dataset](https://archive.ics.uci.edu/ml/datasets/iris)"
      ]
    }
  ]
}